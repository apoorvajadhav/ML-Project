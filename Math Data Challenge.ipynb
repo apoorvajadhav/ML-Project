{
  "nbformat": 4,
  "nbformat_minor": 0,
  "metadata": {
    "colab": {
      "name": "Untitled3.ipynb",
      "provenance": [],
      "collapsed_sections": []
    },
    "kernelspec": {
      "name": "python3",
      "display_name": "Python 3"
    }
  },
  "cells": [
    {
      "cell_type": "code",
      "metadata": {
        "id": "0mEbWqN7PBYi",
        "colab_type": "code",
        "colab": {}
      },
      "source": [
        "# imports all the libraries\n",
        "import pandas as pd\n",
        "import seaborn as sns\n",
        "import statsmodels.formula.api as smf\n",
        "from sklearn import metrics\n",
        "import numpy as np\n",
        "\n",
        "\n",
        "# allow plots to appear directly in the notebook\n",
        "%matplotlib inline"
      ],
      "execution_count": 0,
      "outputs": []
    },
    {
      "cell_type": "code",
      "metadata": {
        "id": "qYhHJIKIPeVz",
        "colab_type": "code",
        "outputId": "7ef0df8b-dc93-40c5-c087-5746d3e5889b",
        "colab": {
          "base_uri": "https://localhost:8080/",
          "height": 222
        }
      },
      "source": [
        "# read data into a DataFrame\n",
        "data = pd.read_excel('Math Students Data Challenge.xlsx')\n",
        "data.head()"
      ],
      "execution_count": 365,
      "outputs": [
        {
          "output_type": "execute_result",
          "data": {
            "text/html": [
              "<div>\n",
              "<style scoped>\n",
              "    .dataframe tbody tr th:only-of-type {\n",
              "        vertical-align: middle;\n",
              "    }\n",
              "\n",
              "    .dataframe tbody tr th {\n",
              "        vertical-align: top;\n",
              "    }\n",
              "\n",
              "    .dataframe thead th {\n",
              "        text-align: right;\n",
              "    }\n",
              "</style>\n",
              "<table border=\"1\" class=\"dataframe\">\n",
              "  <thead>\n",
              "    <tr style=\"text-align: right;\">\n",
              "      <th></th>\n",
              "      <th>State</th>\n",
              "      <th>Avg_Math_Score</th>\n",
              "      <th>Avg_English_Score</th>\n",
              "      <th>Total_Enrollment</th>\n",
              "      <th>State_Debt</th>\n",
              "      <th>State_Revenue</th>\n",
              "      <th>Salaries</th>\n",
              "      <th>Emp_Benefits</th>\n",
              "      <th>Student_Support</th>\n",
              "      <th>Inst_Staff_Support</th>\n",
              "      <th>Total_spending</th>\n",
              "    </tr>\n",
              "  </thead>\n",
              "  <tbody>\n",
              "    <tr>\n",
              "      <th>0</th>\n",
              "      <td>Alabama</td>\n",
              "      <td>269.1943</td>\n",
              "      <td>257.4278</td>\n",
              "      <td>744548</td>\n",
              "      <td>5116627</td>\n",
              "      <td>3898347</td>\n",
              "      <td>5045</td>\n",
              "      <td>1884</td>\n",
              "      <td>502</td>\n",
              "      <td>400</td>\n",
              "      <td>7831</td>\n",
              "    </tr>\n",
              "    <tr>\n",
              "      <th>1</th>\n",
              "      <td>Alaska</td>\n",
              "      <td>281.5596</td>\n",
              "      <td>261.2561</td>\n",
              "      <td>131091</td>\n",
              "      <td>1321403</td>\n",
              "      <td>1707449</td>\n",
              "      <td>8151</td>\n",
              "      <td>6110</td>\n",
              "      <td>1497</td>\n",
              "      <td>1260</td>\n",
              "      <td>17018</td>\n",
              "    </tr>\n",
              "    <tr>\n",
              "      <th>2</th>\n",
              "      <td>Arizona</td>\n",
              "      <td>279.7223</td>\n",
              "      <td>260.4483</td>\n",
              "      <td>941726</td>\n",
              "      <td>4270089</td>\n",
              "      <td>2934165</td>\n",
              "      <td>4446</td>\n",
              "      <td>1265</td>\n",
              "      <td>567</td>\n",
              "      <td>410</td>\n",
              "      <td>6688</td>\n",
              "    </tr>\n",
              "    <tr>\n",
              "      <th>3</th>\n",
              "      <td>Arkansas</td>\n",
              "      <td>277.9148</td>\n",
              "      <td>261.9645</td>\n",
              "      <td>477716</td>\n",
              "      <td>3664741</td>\n",
              "      <td>3847045</td>\n",
              "      <td>5639</td>\n",
              "      <td>1556</td>\n",
              "      <td>484</td>\n",
              "      <td>798</td>\n",
              "      <td>8477</td>\n",
              "    </tr>\n",
              "    <tr>\n",
              "      <th>4</th>\n",
              "      <td>California</td>\n",
              "      <td>275.9014</td>\n",
              "      <td>261.5025</td>\n",
              "      <td>6208733</td>\n",
              "      <td>54627921</td>\n",
              "      <td>35141208</td>\n",
              "      <td>5567</td>\n",
              "      <td>2085</td>\n",
              "      <td>492</td>\n",
              "      <td>515</td>\n",
              "      <td>8659</td>\n",
              "    </tr>\n",
              "  </tbody>\n",
              "</table>\n",
              "</div>"
            ],
            "text/plain": [
              "        State  Avg_Math_Score  ...  Inst_Staff_Support  Total_spending\n",
              "0     Alabama        269.1943  ...                 400            7831\n",
              "1      Alaska        281.5596  ...                1260           17018\n",
              "2     Arizona        279.7223  ...                 410            6688\n",
              "3    Arkansas        277.9148  ...                 798            8477\n",
              "4  California        275.9014  ...                 515            8659\n",
              "\n",
              "[5 rows x 11 columns]"
            ]
          },
          "metadata": {
            "tags": []
          },
          "execution_count": 365
        }
      ]
    },
    {
      "cell_type": "code",
      "metadata": {
        "id": "VrMyNInl5yjI",
        "colab_type": "code",
        "outputId": "f2c33c93-68d9-46ab-e3f9-916331a3c7b5",
        "colab": {
          "base_uri": "https://localhost:8080/",
          "height": 680
        }
      },
      "source": [
        "import matplotlib.pyplot as plt\n",
        "import seaborn as sns\n",
        "#get correlations of each features in dataset\n",
        "corrmat = data.corr()\n",
        "top_corr_features = corrmat.index\n",
        "plt.figure(figsize=(10,10))\n",
        "#plot heat map\n",
        "g=sns.heatmap(data[top_corr_features].corr(),annot=True,cmap=\"RdYlGn\")"
      ],
      "execution_count": 366,
      "outputs": [
        {
          "output_type": "display_data",
          "data": {
            "image/png": "[encoded data removed]",
            "text/plain": [
              "<Figure size 720x720 with 2 Axes>"
            ]
          },
          "metadata": {
            "tags": []
          }
        }
      ]
    },
    {
      "cell_type": "code",
      "metadata": {
        "id": "OthN6MyzQMf_",
        "colab_type": "code",
        "outputId": "7e08fc86-2b38-478b-e237-7358a888a229",
        "colab": {
          "base_uri": "https://localhost:8080/",
          "height": 365
        }
      },
      "source": [
        "# visualize the relationship between the features and the response using scatterplots\n",
        "sns.pairplot(data, x_vars=['Salaries','Emp_Benefits','Student_Support', 'Inst_Staff_Support'], \n",
        "             y_vars='Avg_Math_Score', size=4, aspect=0.7)"
      ],
      "execution_count": 367,
      "outputs": [
        {
          "output_type": "stream",
          "text": [
            "/usr/local/lib/python3.6/dist-packages/seaborn/axisgrid.py:2065: UserWarning: The `size` parameter has been renamed to `height`; pleaes update your code.\n",
            "  warnings.warn(msg, UserWarning)\n"
          ],
          "name": "stderr"
        },
        {
          "output_type": "execute_result",
          "data": {
            "text/plain": [
              "<seaborn.axisgrid.PairGrid at 0x7fa230cbe978>"
            ]
          },
          "metadata": {
            "tags": []
          },
          "execution_count": 367
        },
        {
          "output_type": "display_data",
          "data": {
            "image/png": "[encoded data removed]",
            "text/plain": [
              "<Figure size 806.4x288 with 4 Axes>"
            ]
          },
          "metadata": {
            "tags": []
          }
        }
      ]
    },
    {
      "cell_type": "code",
      "metadata": {
        "id": "DqJsQVgfRVH4",
        "colab_type": "code",
        "outputId": "8166da46-e4fa-4d05-bef6-21680c3e9d66",
        "colab": {
          "base_uri": "https://localhost:8080/",
          "height": 437
        }
      },
      "source": [
        "#visualize the relationship between the Total spending and the response using scatterplots\n",
        "sns.pairplot(data, x_vars='Total_spending', y_vars='Avg_Math_Score', size=5, aspect=0.7, kind='reg')"
      ],
      "execution_count": 368,
      "outputs": [
        {
          "output_type": "stream",
          "text": [
            "/usr/local/lib/python3.6/dist-packages/seaborn/axisgrid.py:2065: UserWarning: The `size` parameter has been renamed to `height`; pleaes update your code.\n",
            "  warnings.warn(msg, UserWarning)\n"
          ],
          "name": "stderr"
        },
        {
          "output_type": "execute_result",
          "data": {
            "text/plain": [
              "<seaborn.axisgrid.PairGrid at 0x7fa230cbec18>"
            ]
          },
          "metadata": {
            "tags": []
          },
          "execution_count": 368
        },
        {
          "output_type": "display_data",
          "data": {
            "image/png": "[encoded data removed]",
            "text/plain": [
              "<Figure size 252x360 with 1 Axes>"
            ]
          },
          "metadata": {
            "tags": []
          }
        }
      ]
    },
    {
      "cell_type": "code",
      "metadata": {
        "id": "_E4OuOuFc6fI",
        "colab_type": "code",
        "outputId": "ae55a977-0c0b-4bce-a84e-459caa7a8f89",
        "colab": {
          "base_uri": "https://localhost:8080/",
          "height": 171
        }
      },
      "source": [
        "#Test the assumptions of Linear Regression by checking pressence of Multicollinearity\n",
        "from statsmodels.stats.outliers_influence import variance_inflation_factor\n",
        "from statsmodels.tools.tools import add_constant\n",
        "\n",
        "#Divide dataset into target variable and predictors\n",
        "x = data.iloc[ : , 6:10]\n",
        "y = data.iloc[ : , 1]\n",
        "x2 = data.iloc[ : , 3:10] \n",
        "\n",
        "df = pd.DataFrame(x)\n",
        "df_cor = df.corr()\n",
        "pd.DataFrame(np.linalg.inv(df.corr().values), index = df_cor.index, columns=df_cor.columns)\n",
        "\n"
      ],
      "execution_count": 369,
      "outputs": [
        {
          "output_type": "execute_result",
          "data": {
            "text/html": [
              "<div>\n",
              "<style scoped>\n",
              "    .dataframe tbody tr th:only-of-type {\n",
              "        vertical-align: middle;\n",
              "    }\n",
              "\n",
              "    .dataframe tbody tr th {\n",
              "        vertical-align: top;\n",
              "    }\n",
              "\n",
              "    .dataframe thead th {\n",
              "        text-align: right;\n",
              "    }\n",
              "</style>\n",
              "<table border=\"1\" class=\"dataframe\">\n",
              "  <thead>\n",
              "    <tr style=\"text-align: right;\">\n",
              "      <th></th>\n",
              "      <th>Salaries</th>\n",
              "      <th>Emp_Benefits</th>\n",
              "      <th>Student_Support</th>\n",
              "      <th>Inst_Staff_Support</th>\n",
              "    </tr>\n",
              "  </thead>\n",
              "  <tbody>\n",
              "    <tr>\n",
              "      <th>Salaries</th>\n",
              "      <td>2.947258</td>\n",
              "      <td>-1.664409</td>\n",
              "      <td>-1.001241</td>\n",
              "      <td>0.122918</td>\n",
              "    </tr>\n",
              "    <tr>\n",
              "      <th>Emp_Benefits</th>\n",
              "      <td>-1.664409</td>\n",
              "      <td>2.977427</td>\n",
              "      <td>-0.599795</td>\n",
              "      <td>-0.581464</td>\n",
              "    </tr>\n",
              "    <tr>\n",
              "      <th>Student_Support</th>\n",
              "      <td>-1.001241</td>\n",
              "      <td>-0.599795</td>\n",
              "      <td>2.213257</td>\n",
              "      <td>-0.248385</td>\n",
              "    </tr>\n",
              "    <tr>\n",
              "      <th>Inst_Staff_Support</th>\n",
              "      <td>0.122918</td>\n",
              "      <td>-0.581464</td>\n",
              "      <td>-0.248385</td>\n",
              "      <td>1.340540</td>\n",
              "    </tr>\n",
              "  </tbody>\n",
              "</table>\n",
              "</div>"
            ],
            "text/plain": [
              "                    Salaries  Emp_Benefits  Student_Support  Inst_Staff_Support\n",
              "Salaries            2.947258     -1.664409        -1.001241            0.122918\n",
              "Emp_Benefits       -1.664409      2.977427        -0.599795           -0.581464\n",
              "Student_Support    -1.001241     -0.599795         2.213257           -0.248385\n",
              "Inst_Staff_Support  0.122918     -0.581464        -0.248385            1.340540"
            ]
          },
          "metadata": {
            "tags": []
          },
          "execution_count": 369
        }
      ]
    },
    {
      "cell_type": "code",
      "metadata": {
        "id": "k1jrCmcbvueP",
        "colab_type": "code",
        "outputId": "ce5bfde4-3f10-4df7-a7dc-eb9424db24c7",
        "colab": {
          "base_uri": "https://localhost:8080/",
          "height": 176
        }
      },
      "source": [
        "#Test multicollinearity with the VIF score\n",
        "\n",
        "X = add_constant(df)\n",
        "pd.Series([variance_inflation_factor(X.values, i) \n",
        "               for i in range(X.shape[1])], \n",
        "              index=X.columns)"
      ],
      "execution_count": 370,
      "outputs": [
        {
          "output_type": "stream",
          "text": [
            "/usr/local/lib/python3.6/dist-packages/numpy/core/fromnumeric.py:2495: FutureWarning: Method .ptp is deprecated and will be removed in a future version. Use numpy.ptp instead.\n",
            "  return ptp(axis=axis, out=out, **kwargs)\n"
          ],
          "name": "stderr"
        },
        {
          "output_type": "execute_result",
          "data": {
            "text/plain": [
              "const                 26.116591\n",
              "Salaries               2.947258\n",
              "Emp_Benefits           2.977427\n",
              "Student_Support        2.213257\n",
              "Inst_Staff_Support     1.340540\n",
              "dtype: float64"
            ]
          },
          "metadata": {
            "tags": []
          },
          "execution_count": 370
        }
      ]
    },
    {
      "cell_type": "code",
      "metadata": {
        "id": "xc48lUUjetb3",
        "colab_type": "code",
        "outputId": "f708b27a-bc57-4431-da0c-3d13cb9b5710",
        "colab": {
          "base_uri": "https://localhost:8080/",
          "height": 485
        }
      },
      "source": [
        "#Check for instability in coefficients with 4 variables under consideration\n",
        "import statsmodels.api as sm\n",
        "est = sm.OLS(y, x).fit()\n",
        "print(est.summary())"
      ],
      "execution_count": 371,
      "outputs": [
        {
          "output_type": "stream",
          "text": [
            "                                 OLS Regression Results                                \n",
            "=======================================================================================\n",
            "Dep. Variable:         Avg_Math_Score   R-squared (uncentered):                   0.967\n",
            "Model:                            OLS   Adj. R-squared (uncentered):              0.964\n",
            "Method:                 Least Squares   F-statistic:                              343.4\n",
            "Date:                Wed, 30 Oct 2019   Prob (F-statistic):                    3.87e-34\n",
            "Time:                        23:58:55   Log-Likelihood:                         -273.55\n",
            "No. Observations:                  51   AIC:                                      555.1\n",
            "Df Residuals:                      47   BIC:                                      562.8\n",
            "Df Model:                           4                                                  \n",
            "Covariance Type:            nonrobust                                                  \n",
            "======================================================================================\n",
            "                         coef    std err          t      P>|t|      [0.025      0.975]\n",
            "--------------------------------------------------------------------------------------\n",
            "Salaries               0.0499      0.005      9.563      0.000       0.039       0.060\n",
            "Emp_Benefits          -0.0289      0.012     -2.514      0.015      -0.052      -0.006\n",
            "Student_Support       -0.0592      0.032     -1.872      0.067      -0.123       0.004\n",
            "Inst_Staff_Support     0.1233      0.043      2.892      0.006       0.038       0.209\n",
            "==============================================================================\n",
            "Omnibus:                        1.000   Durbin-Watson:                   2.159\n",
            "Prob(Omnibus):                  0.607   Jarque-Bera (JB):                0.815\n",
            "Skew:                          -0.305   Prob(JB):                        0.665\n",
            "Kurtosis:                       2.889   Cond. No.                         41.1\n",
            "==============================================================================\n",
            "\n",
            "Warnings:\n",
            "[1] Standard Errors assume that the covariance matrix of the errors is correctly specified.\n"
          ],
          "name": "stdout"
        }
      ]
    },
    {
      "cell_type": "code",
      "metadata": {
        "id": "xD-n-EZDiR1D",
        "colab_type": "code",
        "outputId": "30abf3f2-1c8c-4434-fa31-04bafea5ec31",
        "colab": {
          "base_uri": "https://localhost:8080/",
          "height": 468
        }
      },
      "source": [
        "#Check for instability in coefficients after removing Salaries\n",
        "x1 = data.iloc[ : , 7:10]\n",
        "est2 = sm.OLS(y, x1).fit()\n",
        "print(est2.summary())"
      ],
      "execution_count": 372,
      "outputs": [
        {
          "output_type": "stream",
          "text": [
            "                                 OLS Regression Results                                \n",
            "=======================================================================================\n",
            "Dep. Variable:         Avg_Math_Score   R-squared (uncentered):                   0.903\n",
            "Model:                            OLS   Adj. R-squared (uncentered):              0.896\n",
            "Method:                 Least Squares   F-statistic:                              148.2\n",
            "Date:                Wed, 30 Oct 2019   Prob (F-statistic):                    2.88e-24\n",
            "Time:                        23:58:55   Log-Likelihood:                         -301.09\n",
            "No. Observations:                  51   AIC:                                      608.2\n",
            "Df Residuals:                      48   BIC:                                      614.0\n",
            "Df Model:                           3                                                  \n",
            "Covariance Type:            nonrobust                                                  \n",
            "======================================================================================\n",
            "                         coef    std err          t      P>|t|      [0.025      0.975]\n",
            "--------------------------------------------------------------------------------------\n",
            "Emp_Benefits           0.0303      0.016      1.840      0.072      -0.003       0.063\n",
            "Student_Support        0.0352      0.051      0.691      0.493      -0.067       0.138\n",
            "Inst_Staff_Support     0.3006      0.065      4.613      0.000       0.170       0.432\n",
            "==============================================================================\n",
            "Omnibus:                       30.373   Durbin-Watson:                   1.914\n",
            "Prob(Omnibus):                  0.000   Jarque-Bera (JB):               72.786\n",
            "Skew:                          -1.676   Prob(JB):                     1.57e-16\n",
            "Kurtosis:                       7.798   Cond. No.                         15.3\n",
            "==============================================================================\n",
            "\n",
            "Warnings:\n",
            "[1] Standard Errors assume that the covariance matrix of the errors is correctly specified.\n"
          ],
          "name": "stdout"
        }
      ]
    },
    {
      "cell_type": "code",
      "metadata": {
        "id": "a0ChKPV77hvW",
        "colab_type": "code",
        "outputId": "50404d6c-3bcb-4119-cb24-3c415ae699a7",
        "colab": {
          "base_uri": "https://localhost:8080/",
          "height": 283
        }
      },
      "source": [
        "#Fit Random Forest Regressor with 4 variables\n",
        "from sklearn.ensemble import RandomForestRegressor\n",
        "from sklearn.model_selection import cross_val_score\n",
        "\n",
        "rfr = RandomForestRegressor(n_estimators=10, max_features= 'auto', random_state=0, bootstrap= True)\n",
        "score_rfr4 = cross_val_score(estimator=rfr, X=x, y=y, cv=5)\n",
        "model = rfr.fit(x, y)\n",
        "y_pred_rfr4 = model.predict(x)\n",
        "print(model.feature_importances_)\n",
        "feat_importances = pd.Series(model.feature_importances_, index=x.columns)\n",
        "feat_importances.nlargest(10).plot(kind='barh')\n",
        "plt.show()\n"
      ],
      "execution_count": 373,
      "outputs": [
        {
          "output_type": "stream",
          "text": [
            "[0.46891151 0.14507641 0.22462439 0.16138769]\n"
          ],
          "name": "stdout"
        },
        {
          "output_type": "display_data",
          "data": {
            "image/png": "[encoded data removed]",
            "text/plain": [
              "<Figure size 432x288 with 1 Axes>"
            ]
          },
          "metadata": {
            "tags": []
          }
        }
      ]
    },
    {
      "cell_type": "code",
      "metadata": {
        "id": "clMM8enONrHX",
        "colab_type": "code",
        "outputId": "d0daeb23-d09e-48b7-9982-2aca9419a704",
        "colab": {
          "base_uri": "https://localhost:8080/",
          "height": 300
        }
      },
      "source": [
        "#Fit Random Forest Regressor with 7 variables\n",
        "rfr = RandomForestRegressor(n_estimators=10, max_features= 'auto', random_state=0, bootstrap= True)\n",
        "score_rfr7 = cross_val_score(estimator=rfr, X=x2, y=y, cv=5) \n",
        "rfr.fit(x2, y)\n",
        "y_pred_rfr7 = rfr.predict(x2)\n",
        "print(rfr.feature_importances_)\n",
        "feat_importances = pd.Series(rfr.feature_importances_, index=x2.columns)\n",
        "feat_importances.nlargest(10).plot(kind='barh')\n",
        "plt.show()"
      ],
      "execution_count": 374,
      "outputs": [
        {
          "output_type": "stream",
          "text": [
            "[0.03743027 0.09589827 0.06676616 0.454318   0.0831611  0.16715704\n",
            " 0.09526917]\n"
          ],
          "name": "stdout"
        },
        {
          "output_type": "display_data",
          "data": {
            "image/png": "[encoded data removed]",
            "text/plain": [
              "<Figure size 432x288 with 1 Axes>"
            ]
          },
          "metadata": {
            "tags": []
          }
        }
      ]
    },
    {
      "cell_type": "code",
      "metadata": {
        "id": "P8CXwUKARyaP",
        "colab_type": "code",
        "outputId": "cbd502ab-d65d-4626-f170-a39430002a32",
        "colab": {
          "base_uri": "https://localhost:8080/",
          "height": 283
        }
      },
      "source": [
        "#Fit Gradient Boosting Regressor for 4 variables\n",
        "from sklearn import ensemble\n",
        "\n",
        "gbr = ensemble.GradientBoostingRegressor(n_estimators=10, max_features= 'auto', random_state=0)\n",
        "#print(gbr.get_params())\n",
        "score_gbr4 = cross_val_score(estimator=rfr, X=x, y=y, cv=5) \n",
        "gbr.fit(x, y) \n",
        "y_pred_gbr4 = gbr.predict(x)\n",
        "print(gbr.feature_importances_)\n",
        "feat_importances = pd.Series(gbr.feature_importances_, index=x.columns)\n",
        "feat_importances.nlargest(10).plot(kind='barh')\n",
        "plt.show()"
      ],
      "execution_count": 375,
      "outputs": [
        {
          "output_type": "stream",
          "text": [
            "[0.66609488 0.09612806 0.11127355 0.12650351]\n"
          ],
          "name": "stdout"
        },
        {
          "output_type": "display_data",
          "data": {
            "image/png": "[encoded data removed]",
            "text/plain": [
              "<Figure size 432x288 with 1 Axes>"
            ]
          },
          "metadata": {
            "tags": []
          }
        }
      ]
    },
    {
      "cell_type": "code",
      "metadata": {
        "id": "dyY946uxTreW",
        "colab_type": "code",
        "colab": {
          "base_uri": "https://localhost:8080/",
          "height": 300
        },
        "outputId": "46f21b76-5863-492e-86e9-ee7958313c6c"
      },
      "source": [
        "#Fit Gradient Boosting Regressor for 7 variables\n",
        "gbr = ensemble.GradientBoostingRegressor(n_estimators=10, max_features= 'auto', random_state=0)\n",
        "score_gbr7 = cross_val_score(estimator=rfr, X=x2, y=y, cv=5)\n",
        "gbr.fit(x2, y) \n",
        "y_pred_gbr7 = gbr.predict(x2)\n",
        "print(gbr.feature_importances_)\n",
        "feat_importances = pd.Series(gbr.feature_importances_, index=x2.columns)\n",
        "feat_importances.nlargest(10).plot(kind='barh')\n",
        "plt.show()"
      ],
      "execution_count": 376,
      "outputs": [
        {
          "output_type": "stream",
          "text": [
            "[0.02559477 0.11453139 0.05470897 0.55216918 0.04584803 0.08485985\n",
            " 0.1222878 ]\n"
          ],
          "name": "stdout"
        },
        {
          "output_type": "display_data",
          "data": {
            "image/png": "[encoded data removed]",
            "text/plain": [
              "<Figure size 432x288 with 1 Axes>"
            ]
          },
          "metadata": {
            "tags": []
          }
        }
      ]
    },
    {
      "cell_type": "code",
      "metadata": {
        "id": "q8_9SibwUhCR",
        "colab_type": "code",
        "colab": {
          "base_uri": "https://localhost:8080/",
          "height": 110
        },
        "outputId": "e1dd3d07-3c73-4b30-ef44-31054e321306"
      },
      "source": [
        "#Generate error table\n",
        "from sklearn.metrics import mean_squared_error\n",
        "rfr4 = mean_squared_error(y, y_pred_rfr4)\n",
        "rfr7 = mean_squared_error(y, y_pred_rfr7)\n",
        "gbr4 = mean_squared_error(y, y_pred_gbr4)\n",
        "gbr7 = mean_squared_error(y, y_pred_gbr7)\n",
        "\n",
        "errors = [[rfr4 , rfr7],\n",
        "          [gbr4, gbr7]]\n",
        "\n",
        "error_table = pd.DataFrame(errors, columns = ['Total features = 4', 'Total features = 7'])\n",
        "error_table.rename(index= {0:'Random Forest', 1: 'Gradient Boosting'}, inplace=True)\n",
        "display(error_table)"
      ],
      "execution_count": 377,
      "outputs": [
        {
          "output_type": "display_data",
          "data": {
            "text/html": [
              "<div>\n",
              "<style scoped>\n",
              "    .dataframe tbody tr th:only-of-type {\n",
              "        vertical-align: middle;\n",
              "    }\n",
              "\n",
              "    .dataframe tbody tr th {\n",
              "        vertical-align: top;\n",
              "    }\n",
              "\n",
              "    .dataframe thead th {\n",
              "        text-align: right;\n",
              "    }\n",
              "</style>\n",
              "<table border=\"1\" class=\"dataframe\">\n",
              "  <thead>\n",
              "    <tr style=\"text-align: right;\">\n",
              "      <th></th>\n",
              "      <th>Total features = 4</th>\n",
              "      <th>Total features = 7</th>\n",
              "    </tr>\n",
              "  </thead>\n",
              "  <tbody>\n",
              "    <tr>\n",
              "      <th>Random Forest</th>\n",
              "      <td>6.035635</td>\n",
              "      <td>6.525759</td>\n",
              "    </tr>\n",
              "    <tr>\n",
              "      <th>Gradient Boosting</th>\n",
              "      <td>18.097836</td>\n",
              "      <td>16.851881</td>\n",
              "    </tr>\n",
              "  </tbody>\n",
              "</table>\n",
              "</div>"
            ],
            "text/plain": [
              "                   Total features = 4  Total features = 7\n",
              "Random Forest                6.035635            6.525759\n",
              "Gradient Boosting           18.097836           16.851881"
            ]
          },
          "metadata": {
            "tags": []
          }
        }
      ]
    },
    {
      "cell_type": "code",
      "metadata": {
        "id": "C1s4Z1z4aOhW",
        "colab_type": "code",
        "colab": {
          "base_uri": "https://localhost:8080/",
          "height": 202
        },
        "outputId": "20b181ec-72ac-451f-9755-f69d937dbc33"
      },
      "source": [
        "#Create new tables with allocated amount to 4 variables based on best model feature importance\n",
        "data['Adj_salary'] = data.Salaries.values + 0.47*1000\n",
        "data['Adj_emp_benefits'] = data.Emp_Benefits.values + 0.14*1000\n",
        "data['Adj_student_support'] = data.Student_Support.values + 0.22*1000\n",
        "data['Adj_staff_support'] = data.Inst_Staff_Support.values + 0.16*1000\n",
        "\n",
        "new_features = data[['Adj_salary', 'Adj_emp_benefits', 'Adj_student_support', 'Adj_staff_support']]\n",
        "new_features.head()"
      ],
      "execution_count": 378,
      "outputs": [
        {
          "output_type": "execute_result",
          "data": {
            "text/html": [
              "<div>\n",
              "<style scoped>\n",
              "    .dataframe tbody tr th:only-of-type {\n",
              "        vertical-align: middle;\n",
              "    }\n",
              "\n",
              "    .dataframe tbody tr th {\n",
              "        vertical-align: top;\n",
              "    }\n",
              "\n",
              "    .dataframe thead th {\n",
              "        text-align: right;\n",
              "    }\n",
              "</style>\n",
              "<table border=\"1\" class=\"dataframe\">\n",
              "  <thead>\n",
              "    <tr style=\"text-align: right;\">\n",
              "      <th></th>\n",
              "      <th>Adj_salary</th>\n",
              "      <th>Adj_emp_benefits</th>\n",
              "      <th>Adj_student_support</th>\n",
              "      <th>Adj_staff_support</th>\n",
              "    </tr>\n",
              "  </thead>\n",
              "  <tbody>\n",
              "    <tr>\n",
              "      <th>0</th>\n",
              "      <td>5515.0</td>\n",
              "      <td>2024.0</td>\n",
              "      <td>722.0</td>\n",
              "      <td>560.0</td>\n",
              "    </tr>\n",
              "    <tr>\n",
              "      <th>1</th>\n",
              "      <td>8621.0</td>\n",
              "      <td>6250.0</td>\n",
              "      <td>1717.0</td>\n",
              "      <td>1420.0</td>\n",
              "    </tr>\n",
              "    <tr>\n",
              "      <th>2</th>\n",
              "      <td>4916.0</td>\n",
              "      <td>1405.0</td>\n",
              "      <td>787.0</td>\n",
              "      <td>570.0</td>\n",
              "    </tr>\n",
              "    <tr>\n",
              "      <th>3</th>\n",
              "      <td>6109.0</td>\n",
              "      <td>1696.0</td>\n",
              "      <td>704.0</td>\n",
              "      <td>958.0</td>\n",
              "    </tr>\n",
              "    <tr>\n",
              "      <th>4</th>\n",
              "      <td>6037.0</td>\n",
              "      <td>2225.0</td>\n",
              "      <td>712.0</td>\n",
              "      <td>675.0</td>\n",
              "    </tr>\n",
              "  </tbody>\n",
              "</table>\n",
              "</div>"
            ],
            "text/plain": [
              "   Adj_salary  Adj_emp_benefits  Adj_student_support  Adj_staff_support\n",
              "0      5515.0            2024.0                722.0              560.0\n",
              "1      8621.0            6250.0               1717.0             1420.0\n",
              "2      4916.0            1405.0                787.0              570.0\n",
              "3      6109.0            1696.0                704.0              958.0\n",
              "4      6037.0            2225.0                712.0              675.0"
            ]
          },
          "metadata": {
            "tags": []
          },
          "execution_count": 378
        }
      ]
    },
    {
      "cell_type": "code",
      "metadata": {
        "id": "zQb8RcTHiWsH",
        "colab_type": "code",
        "colab": {
          "base_uri": "https://localhost:8080/",
          "height": 173
        },
        "outputId": "f1985ae6-acbc-4fb5-bfa2-1efd5643fbb7"
      },
      "source": [
        "#Predict new marks after allocating budget\n",
        "new_marks = model.predict(new_features)\n",
        "new_marks"
      ],
      "execution_count": 379,
      "outputs": [
        {
          "output_type": "execute_result",
          "data": {
            "text/plain": [
              "array([278.5875 , 285.466  , 279.33364, 281.98824, 288.134  , 284.13891,\n",
              "       292.86457, 286.68039, 271.17597, 276.74902, 289.37157, 293.04324,\n",
              "       288.15733, 296.02018, 280.13235, 289.46864, 288.45583, 288.04621,\n",
              "       285.06495, 294.93178, 286.904  , 297.79371, 286.87505, 289.58967,\n",
              "       275.80495, 287.89939, 286.23227, 288.12544, 279.86491, 294.44147,\n",
              "       293.71638, 276.80902, 284.87179, 279.67998, 289.31123, 290.27451,\n",
              "       279.21012, 278.92715, 289.0273 , 294.33161, 286.09765, 277.37353,\n",
              "       274.88401, 286.31175, 280.32924, 295.86819, 288.9371 , 285.64363,\n",
              "       286.5047 , 285.80577, 294.88984])"
            ]
          },
          "metadata": {
            "tags": []
          },
          "execution_count": 379
        }
      ]
    },
    {
      "cell_type": "code",
      "metadata": {
        "id": "cUrrb7FUk7wj",
        "colab_type": "code",
        "colab": {
          "base_uri": "https://localhost:8080/",
          "height": 222
        },
        "outputId": "8f3dd9c8-b206-4356-a55d-175491105961"
      },
      "source": [
        "#add this new marks to the original table\n",
        "data['New_marks'] = pd.DataFrame(new_marks)\n",
        "data.head()"
      ],
      "execution_count": 380,
      "outputs": [
        {
          "output_type": "execute_result",
          "data": {
            "text/html": [
              "<div>\n",
              "<style scoped>\n",
              "    .dataframe tbody tr th:only-of-type {\n",
              "        vertical-align: middle;\n",
              "    }\n",
              "\n",
              "    .dataframe tbody tr th {\n",
              "        vertical-align: top;\n",
              "    }\n",
              "\n",
              "    .dataframe thead th {\n",
              "        text-align: right;\n",
              "    }\n",
              "</style>\n",
              "<table border=\"1\" class=\"dataframe\">\n",
              "  <thead>\n",
              "    <tr style=\"text-align: right;\">\n",
              "      <th></th>\n",
              "      <th>State</th>\n",
              "      <th>Avg_Math_Score</th>\n",
              "      <th>Avg_English_Score</th>\n",
              "      <th>Total_Enrollment</th>\n",
              "      <th>State_Debt</th>\n",
              "      <th>State_Revenue</th>\n",
              "      <th>Salaries</th>\n",
              "      <th>Emp_Benefits</th>\n",
              "      <th>Student_Support</th>\n",
              "      <th>Inst_Staff_Support</th>\n",
              "      <th>Total_spending</th>\n",
              "      <th>Adj_salary</th>\n",
              "      <th>Adj_emp_benefits</th>\n",
              "      <th>Adj_student_support</th>\n",
              "      <th>Adj_staff_support</th>\n",
              "      <th>New_marks</th>\n",
              "    </tr>\n",
              "  </thead>\n",
              "  <tbody>\n",
              "    <tr>\n",
              "      <th>0</th>\n",
              "      <td>Alabama</td>\n",
              "      <td>269.1943</td>\n",
              "      <td>257.4278</td>\n",
              "      <td>744548</td>\n",
              "      <td>5116627</td>\n",
              "      <td>3898347</td>\n",
              "      <td>5045</td>\n",
              "      <td>1884</td>\n",
              "      <td>502</td>\n",
              "      <td>400</td>\n",
              "      <td>7831</td>\n",
              "      <td>5515.0</td>\n",
              "      <td>2024.0</td>\n",
              "      <td>722.0</td>\n",
              "      <td>560.0</td>\n",
              "      <td>278.58750</td>\n",
              "    </tr>\n",
              "    <tr>\n",
              "      <th>1</th>\n",
              "      <td>Alaska</td>\n",
              "      <td>281.5596</td>\n",
              "      <td>261.2561</td>\n",
              "      <td>131091</td>\n",
              "      <td>1321403</td>\n",
              "      <td>1707449</td>\n",
              "      <td>8151</td>\n",
              "      <td>6110</td>\n",
              "      <td>1497</td>\n",
              "      <td>1260</td>\n",
              "      <td>17018</td>\n",
              "      <td>8621.0</td>\n",
              "      <td>6250.0</td>\n",
              "      <td>1717.0</td>\n",
              "      <td>1420.0</td>\n",
              "      <td>285.46600</td>\n",
              "    </tr>\n",
              "    <tr>\n",
              "      <th>2</th>\n",
              "      <td>Arizona</td>\n",
              "      <td>279.7223</td>\n",
              "      <td>260.4483</td>\n",
              "      <td>941726</td>\n",
              "      <td>4270089</td>\n",
              "      <td>2934165</td>\n",
              "      <td>4446</td>\n",
              "      <td>1265</td>\n",
              "      <td>567</td>\n",
              "      <td>410</td>\n",
              "      <td>6688</td>\n",
              "      <td>4916.0</td>\n",
              "      <td>1405.0</td>\n",
              "      <td>787.0</td>\n",
              "      <td>570.0</td>\n",
              "      <td>279.33364</td>\n",
              "    </tr>\n",
              "    <tr>\n",
              "      <th>3</th>\n",
              "      <td>Arkansas</td>\n",
              "      <td>277.9148</td>\n",
              "      <td>261.9645</td>\n",
              "      <td>477716</td>\n",
              "      <td>3664741</td>\n",
              "      <td>3847045</td>\n",
              "      <td>5639</td>\n",
              "      <td>1556</td>\n",
              "      <td>484</td>\n",
              "      <td>798</td>\n",
              "      <td>8477</td>\n",
              "      <td>6109.0</td>\n",
              "      <td>1696.0</td>\n",
              "      <td>704.0</td>\n",
              "      <td>958.0</td>\n",
              "      <td>281.98824</td>\n",
              "    </tr>\n",
              "    <tr>\n",
              "      <th>4</th>\n",
              "      <td>California</td>\n",
              "      <td>275.9014</td>\n",
              "      <td>261.5025</td>\n",
              "      <td>6208733</td>\n",
              "      <td>54627921</td>\n",
              "      <td>35141208</td>\n",
              "      <td>5567</td>\n",
              "      <td>2085</td>\n",
              "      <td>492</td>\n",
              "      <td>515</td>\n",
              "      <td>8659</td>\n",
              "      <td>6037.0</td>\n",
              "      <td>2225.0</td>\n",
              "      <td>712.0</td>\n",
              "      <td>675.0</td>\n",
              "      <td>288.13400</td>\n",
              "    </tr>\n",
              "  </tbody>\n",
              "</table>\n",
              "</div>"
            ],
            "text/plain": [
              "        State  Avg_Math_Score  ...  Adj_staff_support  New_marks\n",
              "0     Alabama        269.1943  ...              560.0  278.58750\n",
              "1      Alaska        281.5596  ...             1420.0  285.46600\n",
              "2     Arizona        279.7223  ...              570.0  279.33364\n",
              "3    Arkansas        277.9148  ...              958.0  281.98824\n",
              "4  California        275.9014  ...              675.0  288.13400\n",
              "\n",
              "[5 rows x 16 columns]"
            ]
          },
          "metadata": {
            "tags": []
          },
          "execution_count": 380
        }
      ]
    },
    {
      "cell_type": "code",
      "metadata": {
        "id": "kQxkN7GE4S_b",
        "colab_type": "code",
        "colab": {}
      },
      "source": [
        "#save results\n",
        "data.to_csv('data.csv')"
      ],
      "execution_count": 0,
      "outputs": []
    }
  ]
}